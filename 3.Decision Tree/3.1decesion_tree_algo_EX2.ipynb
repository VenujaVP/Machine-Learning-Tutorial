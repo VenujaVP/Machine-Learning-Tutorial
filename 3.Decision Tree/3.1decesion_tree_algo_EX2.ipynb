{
 "cells": [
  {
   "cell_type": "code",
   "execution_count": 1,
   "id": "4a592903-f45c-45d0-a580-5c8300e18a3d",
   "metadata": {},
   "outputs": [],
   "source": [
    "# Import necessary libraries\n",
    "import pandas as pd  # pandas for data manipulation and analysis\n",
    "import matplotlib.pyplot as plt  # matplotlib for data visualization\n",
    "from sklearn.preprocessing import LabelEncoder  # LabelEncoder for converting categorical values to numerical values\n",
    "from sklearn import tree  # scikit-learn's decision tree module for building and analyzing decision tree models\n",
    "from sklearn.metrics import accuracy_score  #to # evaluate the model"
   ]
  },
  {
   "cell_type": "code",
   "execution_count": 2,
   "id": "a66548cd-fe5b-4322-ae87-2efb55821806",
   "metadata": {},
   "outputs": [
    {
     "name": "stdout",
     "output_type": "stream",
     "text": [
      "       AGE INCOME      JOB INSURANCE\n",
      "0    young    low  student        no\n",
      "1    young    low  student        no\n",
      "2   middle   high    woker       yes\n",
      "3    young    low  student        no\n",
      "4    young    low  student        no\n",
      "5    elder   high    woker       yes\n",
      "6   middle    low    woker        no\n",
      "7   middle   high    woker       yes\n",
      "8   middle    low  student        no\n",
      "9    elder   high    woker       yes\n",
      "10  middle   high    woker       NaN\n"
     ]
    }
   ],
   "source": [
    "# Load your dataset into a pandas DataFrame\n",
    "df = pd.read_csv('Decision_tree_EX2.csv')\n",
    "# Display the DataFrame\n",
    "print(df)"
   ]
  },
  {
   "cell_type": "code",
   "execution_count": 3,
   "id": "673cd89a-b0aa-44e0-b40a-516f9eb3b39b",
   "metadata": {},
   "outputs": [
    {
     "name": "stdout",
     "output_type": "stream",
     "text": [
      "       AGE INCOME      JOB INSURANCE  AGE_le  INCOME_le  JOB_le  INSURANCE_le\n",
      "0    young    low  student        no       2          1       0             0\n",
      "1    young    low  student        no       2          1       0             0\n",
      "2   middle   high    woker       yes       1          0       1             1\n",
      "3    young    low  student        no       2          1       0             0\n",
      "4    young    low  student        no       2          1       0             0\n",
      "5    elder   high    woker       yes       0          0       1             1\n",
      "6   middle    low    woker        no       1          1       1             0\n",
      "7   middle   high    woker       yes       1          0       1             1\n",
      "8   middle    low  student        no       1          1       0             0\n",
      "9    elder   high    woker       yes       0          0       1             1\n",
      "10  middle   high    woker       NaN       1          0       1             2\n"
     ]
    }
   ],
   "source": [
    "# Use LabelEncoder to convert categorical values to numerical values\n",
    "AGE = LabelEncoder()\n",
    "INCOME = LabelEncoder()\n",
    "JOB = LabelEncoder()\n",
    "INSURANCE = LabelEncoder()\n",
    "\n",
    "# Create a new columns to store the encoded values\n",
    "df['AGE_le'] = AGE.fit_transform(df['AGE'])\n",
    "df['INCOME_le'] = AGE.fit_transform(df['INCOME'])\n",
    "df['JOB_le'] = AGE.fit_transform(df['JOB'])\n",
    "df['INSURANCE_le'] = AGE.fit_transform(df['INSURANCE'])\n",
    "print(df)"
   ]
  },
  {
   "cell_type": "code",
   "execution_count": 4,
   "id": "b10bea7d-8e36-4140-9c02-73694665383e",
   "metadata": {},
   "outputs": [],
   "source": [
    "# Create a training dataset containing the first 10 rows of the original DataFrame\n",
    "df_train = df[:10]\n",
    "\n",
    "# Create a testing dataset containing the remaining rows of the original DataFrame starting from the 11th row\n",
    "df_test = df[10:]"
   ]
  },
  {
   "cell_type": "code",
   "execution_count": 5,
   "id": "2ff2d5f6-0907-4ac2-9888-55a7ca6e6968",
   "metadata": {},
   "outputs": [
    {
     "data": {
      "text/html": [
       "<style>#sk-container-id-1 {color: black;background-color: white;}#sk-container-id-1 pre{padding: 0;}#sk-container-id-1 div.sk-toggleable {background-color: white;}#sk-container-id-1 label.sk-toggleable__label {cursor: pointer;display: block;width: 100%;margin-bottom: 0;padding: 0.3em;box-sizing: border-box;text-align: center;}#sk-container-id-1 label.sk-toggleable__label-arrow:before {content: \"▸\";float: left;margin-right: 0.25em;color: #696969;}#sk-container-id-1 label.sk-toggleable__label-arrow:hover:before {color: black;}#sk-container-id-1 div.sk-estimator:hover label.sk-toggleable__label-arrow:before {color: black;}#sk-container-id-1 div.sk-toggleable__content {max-height: 0;max-width: 0;overflow: hidden;text-align: left;background-color: #f0f8ff;}#sk-container-id-1 div.sk-toggleable__content pre {margin: 0.2em;color: black;border-radius: 0.25em;background-color: #f0f8ff;}#sk-container-id-1 input.sk-toggleable__control:checked~div.sk-toggleable__content {max-height: 200px;max-width: 100%;overflow: auto;}#sk-container-id-1 input.sk-toggleable__control:checked~label.sk-toggleable__label-arrow:before {content: \"▾\";}#sk-container-id-1 div.sk-estimator input.sk-toggleable__control:checked~label.sk-toggleable__label {background-color: #d4ebff;}#sk-container-id-1 div.sk-label input.sk-toggleable__control:checked~label.sk-toggleable__label {background-color: #d4ebff;}#sk-container-id-1 input.sk-hidden--visually {border: 0;clip: rect(1px 1px 1px 1px);clip: rect(1px, 1px, 1px, 1px);height: 1px;margin: -1px;overflow: hidden;padding: 0;position: absolute;width: 1px;}#sk-container-id-1 div.sk-estimator {font-family: monospace;background-color: #f0f8ff;border: 1px dotted black;border-radius: 0.25em;box-sizing: border-box;margin-bottom: 0.5em;}#sk-container-id-1 div.sk-estimator:hover {background-color: #d4ebff;}#sk-container-id-1 div.sk-parallel-item::after {content: \"\";width: 100%;border-bottom: 1px solid gray;flex-grow: 1;}#sk-container-id-1 div.sk-label:hover label.sk-toggleable__label {background-color: #d4ebff;}#sk-container-id-1 div.sk-serial::before {content: \"\";position: absolute;border-left: 1px solid gray;box-sizing: border-box;top: 0;bottom: 0;left: 50%;z-index: 0;}#sk-container-id-1 div.sk-serial {display: flex;flex-direction: column;align-items: center;background-color: white;padding-right: 0.2em;padding-left: 0.2em;position: relative;}#sk-container-id-1 div.sk-item {position: relative;z-index: 1;}#sk-container-id-1 div.sk-parallel {display: flex;align-items: stretch;justify-content: center;background-color: white;position: relative;}#sk-container-id-1 div.sk-item::before, #sk-container-id-1 div.sk-parallel-item::before {content: \"\";position: absolute;border-left: 1px solid gray;box-sizing: border-box;top: 0;bottom: 0;left: 50%;z-index: -1;}#sk-container-id-1 div.sk-parallel-item {display: flex;flex-direction: column;z-index: 1;position: relative;background-color: white;}#sk-container-id-1 div.sk-parallel-item:first-child::after {align-self: flex-end;width: 50%;}#sk-container-id-1 div.sk-parallel-item:last-child::after {align-self: flex-start;width: 50%;}#sk-container-id-1 div.sk-parallel-item:only-child::after {width: 0;}#sk-container-id-1 div.sk-dashed-wrapped {border: 1px dashed gray;margin: 0 0.4em 0.5em 0.4em;box-sizing: border-box;padding-bottom: 0.4em;background-color: white;}#sk-container-id-1 div.sk-label label {font-family: monospace;font-weight: bold;display: inline-block;line-height: 1.2em;}#sk-container-id-1 div.sk-label-container {text-align: center;}#sk-container-id-1 div.sk-container {/* jupyter's `normalize.less` sets `[hidden] { display: none; }` but bootstrap.min.css set `[hidden] { display: none !important; }` so we also need the `!important` here to be able to override the default hidden behavior on the sphinx rendered scikit-learn.org. See: https://github.com/scikit-learn/scikit-learn/issues/21755 */display: inline-block !important;position: relative;}#sk-container-id-1 div.sk-text-repr-fallback {display: none;}</style><div id=\"sk-container-id-1\" class=\"sk-top-container\"><div class=\"sk-text-repr-fallback\"><pre>DecisionTreeClassifier()</pre><b>In a Jupyter environment, please rerun this cell to show the HTML representation or trust the notebook. <br />On GitHub, the HTML representation is unable to render, please try loading this page with nbviewer.org.</b></div><div class=\"sk-container\" hidden><div class=\"sk-item\"><div class=\"sk-estimator sk-toggleable\"><input class=\"sk-toggleable__control sk-hidden--visually\" id=\"sk-estimator-id-1\" type=\"checkbox\" checked><label for=\"sk-estimator-id-1\" class=\"sk-toggleable__label sk-toggleable__label-arrow\">DecisionTreeClassifier</label><div class=\"sk-toggleable__content\"><pre>DecisionTreeClassifier()</pre></div></div></div></div></div>"
      ],
      "text/plain": [
       "DecisionTreeClassifier()"
      ]
     },
     "execution_count": 5,
     "metadata": {},
     "output_type": "execute_result"
    }
   ],
   "source": [
    "# Create a DecisionTreeClassifier object\n",
    "model = tree.DecisionTreeClassifier()\n",
    "\n",
    "# Train the model using the training data\n",
    "# Assuming 'AGE_le', 'INCOME_le', 'JOB_le' are the encoded features, and 'INSURANCE_le' is the target variable\n",
    "model.fit(df_train[['AGE_le', 'INCOME_le', 'JOB_le']], df_train['INSURANCE_le'])\n"
   ]
  },
  {
   "cell_type": "code",
   "execution_count": 6,
   "id": "e5a34601-2864-4bcd-90fd-2ab8ff3edf1a",
   "metadata": {},
   "outputs": [
    {
     "name": "stdout",
     "output_type": "stream",
     "text": [
      "[1]\n"
     ]
    }
   ],
   "source": [
    "# Print the predictions made by the trained model on the testing dataset\n",
    "print(model.predict(df_test[['AGE_le', 'INCOME_le', 'JOB_le']]))\n"
   ]
  },
  {
   "cell_type": "code",
   "execution_count": 7,
   "id": "3fdaa267-583a-4793-b584-41c87f4d64dd",
   "metadata": {},
   "outputs": [
    {
     "ename": "NameError",
     "evalue": "name 'Y_train' is not defined",
     "output_type": "error",
     "traceback": [
      "\u001b[1;31m---------------------------------------------------------------------------\u001b[0m",
      "\u001b[1;31mNameError\u001b[0m                                 Traceback (most recent call last)",
      "Cell \u001b[1;32mIn[7], line 1\u001b[0m\n\u001b[1;32m----> 1\u001b[0m training_data_accuracy \u001b[38;5;241m=\u001b[39m accuracy_score(Y_train, X_train_prediction)\n",
      "\u001b[1;31mNameError\u001b[0m: name 'Y_train' is not defined"
     ]
    }
   ],
   "source": []
  }
 ],
 "metadata": {
  "kernelspec": {
   "display_name": "Python 3 (ipykernel)",
   "language": "python",
   "name": "python3"
  },
  "language_info": {
   "codemirror_mode": {
    "name": "ipython",
    "version": 3
   },
   "file_extension": ".py",
   "mimetype": "text/x-python",
   "name": "python",
   "nbconvert_exporter": "python",
   "pygments_lexer": "ipython3",
   "version": "3.11.7"
  }
 },
 "nbformat": 4,
 "nbformat_minor": 5
}
